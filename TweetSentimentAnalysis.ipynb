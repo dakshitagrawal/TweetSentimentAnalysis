{
 "cells": [
  {
   "cell_type": "code",
   "execution_count": 1,
   "metadata": {
    "collapsed": false
   },
   "outputs": [
    {
     "name": "stderr",
     "output_type": "stream",
     "text": [
      "Using Theano backend.\n"
     ]
    }
   ],
   "source": [
    "import pandas as pd\n",
    "import re\n",
    "\n",
    "import nltk\n",
    "from nltk.corpus import stopwords\n",
    "\n",
    "from sklearn.feature_extraction.text import TfidfVectorizer\n",
    "from sklearn.feature_extraction.text import CountVectorizer\n",
    "from sklearn.decomposition import PCA\n",
    "from sklearn.decomposition import TruncatedSVD\n",
    "from sklearn.model_selection import train_test_split\n",
    "\n",
    "import numpy as np\n",
    "\n",
    "from keras.layers import Dense\n",
    "from keras.models import Sequential\n",
    "from keras import optimizers"
   ]
  },
  {
   "cell_type": "code",
   "execution_count": 2,
   "metadata": {
    "collapsed": false
   },
   "outputs": [],
   "source": [
    "def polishData(df):\n",
    "    \n",
    "    data = []\n",
    "\n",
    "    for i in xrange(0, df.shape[0]):\n",
    "        no_links = re.sub(\"https?:\\/\\/.*[\\r\\n]*\", \" \", df.iloc[:,0][i], flags=re.MULTILINE)\n",
    "\n",
    "        letters_only = re.sub(\"[^a-zA-Z]\", \" \", no_links)\n",
    "\n",
    "        lower_case = letters_only.lower()\n",
    "        words = lower_case.split()\n",
    "    \n",
    "        words = [w for w in words if not w in stopwords.words(\"english\")]\n",
    "\n",
    "        final_string = \" \".join(words)\n",
    "    \n",
    "        data.append(final_string)\n",
    "    \n",
    "    return data"
   ]
  },
  {
   "cell_type": "code",
   "execution_count": 3,
   "metadata": {
    "collapsed": false
   },
   "outputs": [],
   "source": [
    "def labelsOneHot(df):\n",
    "    sentiOneHot = pd.get_dummies(df.iloc[:,1])\n",
    "\n",
    "    labels = np.empty((sentiOneHot.shape), dtype = int)\n",
    "\n",
    "    for i in xrange(0,sentiOneHot.shape[1]):\n",
    "        numbers = np.array(sentiOneHot.iloc[:,i])\n",
    "        labels[:,i] = numbers\n",
    "\n",
    "    return labels"
   ]
  },
  {
   "cell_type": "code",
   "execution_count": 8,
   "metadata": {
    "collapsed": true
   },
   "outputs": [],
   "source": [
    "def polishDataSet(df):\n",
    "    data = polishData(df)\n",
    "    labels = labelsOneHot(df)\n",
    "    \n",
    "    return data, labels"
   ]
  },
  {
   "cell_type": "code",
   "execution_count": 5,
   "metadata": {
    "collapsed": false
   },
   "outputs": [],
   "source": [
    "def BOW(train_data, analyzerType, ngram_value):\n",
    "    \n",
    "    bow = CountVectorizer(analyzer = analyzerType, ngram_range = (ngram_value, ngram_value))\n",
    "    train_data_bow = bow.fit_transform(train_data)\n",
    "    print train_data_bow.shape\n",
    "    return train_data_bow, bow"
   ]
  },
  {
   "cell_type": "code",
   "execution_count": 6,
   "metadata": {
    "collapsed": true
   },
   "outputs": [],
   "source": [
    "def TFIDF(train_data, analyzerType, ngram_value):\n",
    "    \n",
    "    tfidf = TfidfVectorizer(analyzer = analyzerType, ngram_range = (ngram_value, ngram_value))\n",
    "    train_data_tfidf = tfidf.fit_transform(train_data)\n",
    "    print train_data_tfidf.shape\n",
    "    return train_data_tfidf, tfidf"
   ]
  },
  {
   "cell_type": "code",
   "execution_count": 7,
   "metadata": {
    "collapsed": false
   },
   "outputs": [],
   "source": [
    "def SVD(train_data_vectorized, n_components):\n",
    "    svd = TruncatedSVD(n_components=n_components, n_iter=7, random_state=42)\n",
    "    train_data_reduced = svd.fit_transform(train_data_vectorized)\n",
    "    train_data_reduced = np.array(train_data_reduced)\n",
    "    print train_data_reduced.shape\n",
    "    return train_data_reduced, svd"
   ]
  },
  {
   "cell_type": "code",
   "execution_count": 9,
   "metadata": {
    "collapsed": false
   },
   "outputs": [],
   "source": [
    "def dataReduce(train_data, vectorizer, reducer = None, n_components = 1000, ngram = False, ngram_value = 1):\n",
    "    \"\"\"test_split = value in decimals\"\"\"\n",
    "\n",
    "    if ngram == False:\n",
    "        analyzerType = 'word'\n",
    "    else:\n",
    "        analyzerType = 'char'\n",
    "        \n",
    "    if vectorizer == 'bow':\n",
    "        train_data_vectorized, vectorizer = BOW(train_data, analyzerType, ngram_value)\n",
    "    elif vectorizer == 'tfidf':\n",
    "        train_data_vectorized, vectorizer = TFIDF(train_data, analyzerType, ngram_value)\n",
    "        \n",
    "    train_data_reduced, reducer = SVD(train_data_vectorized, n_components)\n",
    "    \n",
    "    return train_data_reduced, vectorizer, reducer"
   ]
  },
  {
   "cell_type": "code",
   "execution_count": 10,
   "metadata": {
    "collapsed": false
   },
   "outputs": [],
   "source": [
    "def makeModel(train_data_reduced, train_labels, hidden_layer = 30, \n",
    "              activation = 'relu', optimizer = 'adam', loss = 'categorical_crossentropy'):\n",
    "    \n",
    "    model = Sequential()\n",
    "    model.add(Dense(hidden_layer,input_dim = train_data_reduced.shape[1], activation = activation))\n",
    "    model.add(Dense(train_labels.shape[1], activation = 'softmax'))\n",
    "    model.compile(optimizer = optimizer, loss = loss, metrics = ['accuracy'])\n",
    "    \n",
    "    return model"
   ]
  },
  {
   "cell_type": "code",
   "execution_count": 11,
   "metadata": {
    "collapsed": false
   },
   "outputs": [],
   "source": [
    "def evaluateModel(test_data, test_labels, model, vectorizer = None, reducer = None):\n",
    "    \n",
    "    if vectorizer:\n",
    "        test_data_vectorized = vectorizer.transform(test_data)\n",
    "    else:\n",
    "        test_data_vectorized = test_data\n",
    "        \n",
    "    if reducer:\n",
    "        test_data_reduced = reducer.transform(test_data_vectorized)\n",
    "        test_data_reduced = np.array(test_data_reduced)\n",
    "    else:\n",
    "        test_data_reduced = np.array(test_data_vectorized)\n",
    "             \n",
    "    scores = model.evaluate(test_data_reduced, test_labels)\n",
    "    print(\"\\n%s: %.2f%%\" % (model.metrics_names[1], scores[1]*100))   \n",
    "        \n",
    "    return scores"
   ]
  },
  {
   "cell_type": "code",
   "execution_count": 12,
   "metadata": {
    "collapsed": false
   },
   "outputs": [],
   "source": [
    "path = \"./twitter.csv\"\n",
    "df = pd.read_csv(path)"
   ]
  },
  {
   "cell_type": "code",
   "execution_count": 13,
   "metadata": {
    "collapsed": false
   },
   "outputs": [],
   "source": [
    "data, labels = polishDataSet(df)"
   ]
  },
  {
   "cell_type": "code",
   "execution_count": 14,
   "metadata": {
    "collapsed": false
   },
   "outputs": [],
   "source": [
    "test_split = 0.20\n",
    "train_data, test_data, train_labels, test_labels = train_test_split(data, labels, test_size = test_split, random_state = 42)"
   ]
  },
  {
   "cell_type": "code",
   "execution_count": 15,
   "metadata": {
    "collapsed": false
   },
   "outputs": [
    {
     "name": "stdout",
     "output_type": "stream",
     "text": [
      "(797, 579)\n",
      "(797, 550)\n"
     ]
    }
   ],
   "source": [
    "train_data_reduced, vectorizer, reducer = dataReduce(train_data,'tfidf', n_components = 550 , ngram = True, ngram_value = 2)"
   ]
  },
  {
   "cell_type": "code",
   "execution_count": 16,
   "metadata": {
    "collapsed": false
   },
   "outputs": [],
   "source": [
    "model = makeModel(train_data_reduced, train_labels, hidden_layer = 50, \n",
    "                  activation = 'relu', optimizer = 'adam', loss = 'categorical_crossentropy')"
   ]
  },
  {
   "cell_type": "code",
   "execution_count": null,
   "metadata": {
    "collapsed": true
   },
   "outputs": [],
   "source": [
    "epochs = 20\n",
    "batch_size = 32\n",
    "model.fit(train_data_reduced, train_labels, epochs = epochs, batch_size = batch_size)"
   ]
  },
  {
   "cell_type": "code",
   "execution_count": null,
   "metadata": {
    "collapsed": true
   },
   "outputs": [],
   "source": [
    "model.evaluateModel(test_data, test_labels, model, vectorizer, reducer)"
   ]
  }
 ],
 "metadata": {
  "kernelspec": {
   "display_name": "Python 2",
   "language": "python",
   "name": "python2"
  },
  "language_info": {
   "codemirror_mode": {
    "name": "ipython",
    "version": 2
   },
   "file_extension": ".py",
   "mimetype": "text/x-python",
   "name": "python",
   "nbconvert_exporter": "python",
   "pygments_lexer": "ipython2",
   "version": "2.7.13"
  }
 },
 "nbformat": 4,
 "nbformat_minor": 2
}
