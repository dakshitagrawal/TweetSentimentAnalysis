{
 "cells": [
  {
   "cell_type": "code",
   "execution_count": 1,
   "metadata": {
    "collapsed": false
   },
   "outputs": [
    {
     "name": "stderr",
     "output_type": "stream",
     "text": [
      "Using Theano backend.\n",
      "C:\\Users\\shyam\\Anaconda2\\lib\\site-packages\\gensim\\utils.py:865: UserWarning: detected Windows; aliasing chunkize to chunkize_serial\n",
      "  warnings.warn(\"detected Windows; aliasing chunkize to chunkize_serial\")\n"
     ]
    }
   ],
   "source": [
    "import pandas as pd\n",
    "import re\n",
    "\n",
    "from nltk.corpus import stopwords\n",
    "from nltk import FreqDist\n",
    "\n",
    "from sklearn.model_selection import train_test_split\n",
    "\n",
    "import numpy as np\n",
    "\n",
    "import keras\n",
    "from keras.layers import Dense\n",
    "from keras.layers import Dropout\n",
    "from keras.models import Sequential\n",
    "from keras import optimizers\n",
    "\n",
    "from gensim.models import Word2Vec"
   ]
  },
  {
   "cell_type": "code",
   "execution_count": 2,
   "metadata": {
    "collapsed": true
   },
   "outputs": [],
   "source": [
    "def polishData(df):\n",
    "    \n",
    "    data = []\n",
    "\n",
    "    for i in xrange(0, df.shape[0]):\n",
    "        no_links = re.sub(\"https?:\\/\\/.*[\\r\\n]*\", \" \", df.iloc[:,0][i], flags=re.MULTILINE)\n",
    "\n",
    "        letters_only = re.sub(\"[^a-zA-Z]\", \" \", no_links)\n",
    "\n",
    "        lower_case = letters_only.lower()\n",
    "        words = lower_case.split()\n",
    "    \n",
    "        words = [w for w in words if not w in stopwords.words(\"english\")]\n",
    "    \n",
    "        data.append(words)\n",
    "    \n",
    "    return data"
   ]
  },
  {
   "cell_type": "code",
   "execution_count": 3,
   "metadata": {
    "collapsed": true
   },
   "outputs": [],
   "source": [
    "def labelsOneHot(df):\n",
    "    sentiOneHot = pd.get_dummies(df.iloc[:,1])\n",
    "\n",
    "    labels = np.empty((sentiOneHot.shape), dtype = int)\n",
    "\n",
    "    for i in xrange(0,sentiOneHot.shape[1]):\n",
    "        numbers = np.array(sentiOneHot.iloc[:,i])\n",
    "        labels[:,i] = numbers\n",
    "\n",
    "    return labels"
   ]
  },
  {
   "cell_type": "code",
   "execution_count": 4,
   "metadata": {
    "collapsed": true
   },
   "outputs": [],
   "source": [
    "def polishDataSet(df):\n",
    "    data = polishData(df)\n",
    "    labels = labelsOneHot(df)\n",
    "    \n",
    "    return data, labels"
   ]
  },
  {
   "cell_type": "code",
   "execution_count": 5,
   "metadata": {
    "collapsed": true
   },
   "outputs": [],
   "source": [
    "def vocabBuilder (data, unknown = True, min_no_of_words = 1):\n",
    "    tokens = []\n",
    "    \n",
    "    for i in xrange(0, len(data)):\n",
    "        for j in xrange(0,len(data[i])):\n",
    "            tokens.append(data[i][j])\n",
    "            \n",
    "    freqdist = FreqDist(tokens)\n",
    "    \n",
    "    vocab = []\n",
    "    \n",
    "    for key in freqdist:\n",
    "        if freqdist[key] >= min_no_of_words:\n",
    "            vocab.append(key)\n",
    "    \n",
    "    if unknown:\n",
    "        vocab.append('UNKNOWN')\n",
    "    \n",
    "    return vocab"
   ]
  },
  {
   "cell_type": "code",
   "execution_count": 6,
   "metadata": {
    "collapsed": true
   },
   "outputs": [],
   "source": [
    "def fit_unknown_token(data, vocab):\n",
    "    \n",
    "    data_unknown = data\n",
    "    \n",
    "    for i in xrange(0, len(data)):\n",
    "        for j in xrange(0, len(data[i])):\n",
    "            if data[i][j] not in vocab:\n",
    "                data_unknown[i][j] = 'UNKNOWN'\n",
    "                \n",
    "    return data_unknown"
   ]
  },
  {
   "cell_type": "code",
   "execution_count": 7,
   "metadata": {
    "collapsed": true
   },
   "outputs": [],
   "source": [
    "def word2vec(data, window, min_count, size, iterations):\n",
    "    model = Word2Vec(data, window = window, min_count = min_count, \n",
    "                            size = size, iter = iterations)\n",
    "    return model.wv"
   ]
  },
  {
   "cell_type": "code",
   "execution_count": 8,
   "metadata": {
    "collapsed": true
   },
   "outputs": [],
   "source": [
    "def data_reduce(data, size, wordVectorsModel):\n",
    "    \n",
    "    data_reduced = np.empty((len(data),size))\n",
    "\n",
    "    for i in xrange(0, len(data)):\n",
    "\n",
    "        row_average = np.zeros((1,size))\n",
    "    \n",
    "        for x in xrange(0, len(data[i])):\n",
    "            row_average += wordVectorsModel[data[i][x]]\n",
    "    \n",
    "        if len(data[i]) != 0:\n",
    "            row_average /= len(data[i])\n",
    "        \n",
    "        data_reduced[i] = row_average\n",
    "    \n",
    "    return data_reduced"
   ]
  },
  {
   "cell_type": "code",
   "execution_count": 9,
   "metadata": {
    "collapsed": true
   },
   "outputs": [],
   "source": [
    "def makeModel(train_data_reduced, train_labels, hidden_layer = 30, \n",
    "              activation = 'relu', optimizer = 'adam', loss = 'categorical_crossentropy'):\n",
    "    \n",
    "    adamOptimizer = keras.optimizers.Adam(lr=0.0008, decay = 0.00001)\n",
    "    model = Sequential()\n",
    "    model.add(Dense(hidden_layer,input_dim = train_data_reduced.shape[1], activation = activation))\n",
    "    model.add(Dropout(0.4))\n",
    "    model.add(Dense(100, activation = 'relu'))\n",
    "    model.add(Dropout(0.5))\n",
    "    model.add(Dense(train_labels.shape[1],activation = 'softmax'))\n",
    "    model.compile(optimizer = adamOptimizer, loss = loss, metrics = ['accuracy'])\n",
    "    \n",
    "    return model"
   ]
  },
  {
   "cell_type": "code",
   "execution_count": 10,
   "metadata": {
    "collapsed": true
   },
   "outputs": [],
   "source": [
    "def evaluateModel(test_data, test_labels):   \n",
    "    scores = model.evaluate(test_data, test_labels)\n",
    "    print(\"\\n%s: %.2f%%\" % (model.metrics_names[1], scores[1]*100))    "
   ]
  },
  {
   "cell_type": "code",
   "execution_count": 11,
   "metadata": {
    "collapsed": false
   },
   "outputs": [],
   "source": [
    "path = \"./train_data.csv\"\n",
    "df = pd.read_csv(path)"
   ]
  },
  {
   "cell_type": "code",
   "execution_count": 12,
   "metadata": {
    "collapsed": false
   },
   "outputs": [],
   "source": [
    "data, labels = polishDataSet(df)"
   ]
  },
  {
   "cell_type": "code",
   "execution_count": 13,
   "metadata": {
    "collapsed": true
   },
   "outputs": [],
   "source": [
    "test_split = 0.20\n",
    "train_data, test_data, train_labels, test_labels = train_test_split(data, labels, \n",
    "                                                                    test_size = test_split, \n",
    "                                                                    random_state = 10)"
   ]
  },
  {
   "cell_type": "code",
   "execution_count": 14,
   "metadata": {
    "collapsed": true
   },
   "outputs": [],
   "source": [
    "vocab = vocabBuilder(train_data, unknown = True, min_no_of_words = 2)"
   ]
  },
  {
   "cell_type": "code",
   "execution_count": 15,
   "metadata": {
    "collapsed": true
   },
   "outputs": [],
   "source": [
    "train_data_fit = fit_unknown_token(train_data, vocab)\n",
    "test_data_fit = fit_unknown_token(test_data, vocab)"
   ]
  },
  {
   "cell_type": "code",
   "execution_count": 16,
   "metadata": {
    "collapsed": false
   },
   "outputs": [
    {
     "name": "stdout",
     "output_type": "stream",
     "text": [
      "10003\n",
      "10003\n"
     ]
    }
   ],
   "source": [
    "size = 100\n",
    "wordVectorsModel = word2vec(train_data_fit, 4, 2, size, 5).wv"
   ]
  },
  {
   "cell_type": "code",
   "execution_count": 17,
   "metadata": {
    "collapsed": false
   },
   "outputs": [],
   "source": [
    "train_data_reduced = data_reduce(train_data, size, wordVectorsModel)\n",
    "test_data_reduced = data_reduce(test_data, size, wordVectorsModel)"
   ]
  },
  {
   "cell_type": "code",
   "execution_count": 18,
   "metadata": {
    "collapsed": true
   },
   "outputs": [],
   "source": [
    "model = makeModel(train_data_reduced, train_labels)"
   ]
  },
  {
   "cell_type": "code",
   "execution_count": null,
   "metadata": {
    "collapsed": false
   },
   "outputs": [],
   "source": [
    "epochs = 3\n",
    "batch_size = \n",
    "model.fit(train_data_reduced, train_labels, epochs = epochs, batch_size = batch_size)"
   ]
  },
  {
   "cell_type": "code",
   "execution_count": null,
   "metadata": {
    "collapsed": true
   },
   "outputs": [],
   "source": [
    "model.evaluateModel(test_data_reduced, test_labels)"
   ]
  }
 ],
 "metadata": {
  "kernelspec": {
   "display_name": "Python 2",
   "language": "python",
   "name": "python2"
  },
  "language_info": {
   "codemirror_mode": {
    "name": "ipython",
    "version": 2
   },
   "file_extension": ".py",
   "mimetype": "text/x-python",
   "name": "python",
   "nbconvert_exporter": "python",
   "pygments_lexer": "ipython2",
   "version": "2.7.13"
  }
 },
 "nbformat": 4,
 "nbformat_minor": 2
}
