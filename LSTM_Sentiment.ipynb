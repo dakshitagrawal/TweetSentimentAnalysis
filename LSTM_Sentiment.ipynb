{
 "cells": [
  {
   "cell_type": "code",
   "execution_count": null,
   "metadata": {
    "collapsed": true
   },
   "outputs": [],
   "source": [
    "import pandas as pd\n",
    "import re\n",
    "\n",
    "from nltk.corpus import stopwords\n",
    "from nltk import FreqDist\n",
    "\n",
    "from sklearn.model_selection import train_test_split\n",
    "\n",
    "import numpy as np\n",
    "\n",
    "import gensim.models as genmod\n",
    "\n",
    "from keras.preprocessing import sequence\n",
    "\n",
    "from keras.layers import LSTM\n",
    "from keras.layers import Dense\n",
    "from keras.layers import Dropout\n",
    "from keras.layers import Embedding\n",
    "from keras.models import Sequential\n",
    "from keras import optimizers"
   ]
  },
  {
   "cell_type": "code",
   "execution_count": null,
   "metadata": {
    "collapsed": true
   },
   "outputs": [],
   "source": [
    "def polishData(df):\n",
    "    \n",
    "    data = []\n",
    "\n",
    "    for i in xrange(0, df.shape[0]):\n",
    "        no_links = re.sub(\"https?:\\/\\/.*[\\r\\n]*\", \" \", df.iloc[:,0][i], flags=re.MULTILINE)\n",
    "\n",
    "        letters_only = re.sub(\"[^a-zA-Z]\", \" \", no_links)\n",
    "\n",
    "        lower_case = letters_only.lower()\n",
    "        words = lower_case.split()\n",
    "    \n",
    "        words = [w for w in words if not w in stopwords.words(\"english\")]\n",
    "    \n",
    "        data.append(words)\n",
    "        \n",
    "    return data"
   ]
  },
  {
   "cell_type": "code",
   "execution_count": null,
   "metadata": {
    "collapsed": true
   },
   "outputs": [],
   "source": [
    "def labelsOneHot(df):\n",
    "    sentiOneHot = pd.get_dummies(df.iloc[:,1])\n",
    "\n",
    "    labels = np.empty((sentiOneHot.shape), dtype = int)\n",
    "\n",
    "    for i in xrange(0,sentiOneHot.shape[1]):\n",
    "        numbers = np.array(sentiOneHot.iloc[:,i])\n",
    "        labels[:,i] = numbers\n",
    "\n",
    "    return labels"
   ]
  },
  {
   "cell_type": "code",
   "execution_count": null,
   "metadata": {
    "collapsed": true
   },
   "outputs": [],
   "source": [
    "def polishDataSet(df):\n",
    "    data = polishData(df)\n",
    "    labels = labelsOneHot(df)\n",
    "    \n",
    "    return data, labels"
   ]
  },
  {
   "cell_type": "code",
   "execution_count": null,
   "metadata": {
    "collapsed": true
   },
   "outputs": [],
   "source": [
    "def vocabBuilder (data, unknown = True, min_no_of_words = 1):\n",
    "    tokens = []\n",
    "    \n",
    "    for i in xrange(0, len(data)):\n",
    "        for j in xrange(0,len(data[i])):\n",
    "            tokens.append(data[i][j])\n",
    "            \n",
    "    freqdist = FreqDist(tokens)\n",
    "    \n",
    "    vocab = []\n",
    "    \n",
    "    for key in freqdist:\n",
    "        if freqdist[key] >= min_no_of_words:\n",
    "            vocab.append(key)\n",
    "    \n",
    "    if unknown:\n",
    "        vocab.append('UNKNOWN')\n",
    "    \n",
    "    return vocab"
   ]
  },
  {
   "cell_type": "code",
   "execution_count": null,
   "metadata": {
    "collapsed": true
   },
   "outputs": [],
   "source": [
    "def fit_unknown_token(data, vocab):\n",
    "    \n",
    "    data_unknown = data\n",
    "    \n",
    "    for i in xrange(0, len(data)):\n",
    "        for j in xrange(0, len(data[i])):\n",
    "            if data[i][j] not in vocab:\n",
    "                data_unknown[i][j] = 'UNKNOWN'\n",
    "                \n",
    "    return data_unknown"
   ]
  },
  {
   "cell_type": "code",
   "execution_count": null,
   "metadata": {
    "collapsed": true
   },
   "outputs": [],
   "source": [
    "def word2vec(data, window, min_count, size, iterations):\n",
    "    model = genmod.Word2Vec(train_data, window = window, min_count = min_count, \n",
    "                            size = size, iter = iterations)\n",
    "    return model.wv"
   ]
  },
  {
   "cell_type": "code",
   "execution_count": null,
   "metadata": {
    "collapsed": true
   },
   "outputs": [],
   "source": [
    "def word_embedding_matrix_builder(word_vectors_model, size, vocab):\n",
    "        \n",
    "    embeddingsMatrix = np.zeros((len(vocab), size))\n",
    "\n",
    "    for i in xrange(0, len(vocab)):\n",
    "        if vocab[i] in word_vectors_model.vocab:\n",
    "            embeddingsMatrix[i] = word_vectors_model[vocab[i]]\n",
    "\n",
    "    return embeddingsMatrix"
   ]
  },
  {
   "cell_type": "code",
   "execution_count": null,
   "metadata": {
    "collapsed": true
   },
   "outputs": [],
   "source": [
    "def word_to_index(data, vocab):\n",
    "    \n",
    "    data_word_to_index = []\n",
    "    \n",
    "    for i in xrange(0, len(data)):\n",
    "        wordToIndex = []\n",
    "\n",
    "        for j in xrange(0, len(data[i])):            \n",
    "            l = vocab.index(data[i][j])\n",
    "            wordToIndex.append(l)\n",
    "        \n",
    "        data_word_to_index.append(wordToIndex)\n",
    "\n",
    "    return data_word_to_index"
   ]
  },
  {
   "cell_type": "code",
   "execution_count": null,
   "metadata": {
    "collapsed": true
   },
   "outputs": [],
   "source": [
    "def makeModel(train_data, train_labels, vocab_length, pretrained = False, wordEmbeddings = None, trainable = False, size = 300,\n",
    "              hidden_layer = 128, activation = 'relu', optimizer = 'adam', loss = 'categorical_crossentropy'):\n",
    "    \n",
    "    #adamOptimizer = keras.optimizers.Adam(lr=0.001, decay = 0.001)\n",
    "    model = Sequential()\n",
    "    \n",
    "    if pretrained:\n",
    "        model.add(Embedding(vocab_length, wordEmbeddings.shape[1], input_length = train_data.shape[1], \n",
    "                            weights = [wordEmbeddings], trainable = trainable))\n",
    "    else:\n",
    "        model.add(Embedding(len(vocab), size, input_length = train_data.shape[1]))\n",
    "        \n",
    "    model.add(LSTM(128))\n",
    "    model.add(Dropout(0.5))\n",
    "    model.add(Dense(hidden_layer, activation = activation))\n",
    "    model.add(Dropout(0.5))\n",
    "    model.add(Dense(hidden_layer, activation = activation))\n",
    "    model.add(Dropout(0.5))\n",
    "    model.add(Dense(train_labels.shape[1],activation = 'softmax'))  \n",
    "    \n",
    "    model.compile(optimizer = optimizer, loss = loss, metrics = ['accuracy'])\n",
    "    \n",
    "    return model"
   ]
  },
  {
   "cell_type": "code",
   "execution_count": null,
   "metadata": {
    "collapsed": true
   },
   "outputs": [],
   "source": [
    "def evaluateModel(test_data, test_labels):   \n",
    "    scores = model.evaluate(test_data, test_labels)\n",
    "    print(\"\\n%s: %.2f%%\" % (model.metrics_names[1], scores[1]*100))   "
   ]
  },
  {
   "cell_type": "code",
   "execution_count": null,
   "metadata": {
    "collapsed": true
   },
   "outputs": [],
   "source": [
    "path = \"./train_data.csv\"\n",
    "df = pd.read_csv(path)\n",
    "df"
   ]
  },
  {
   "cell_type": "code",
   "execution_count": null,
   "metadata": {
    "collapsed": true
   },
   "outputs": [],
   "source": [
    "data, labels = polishDataSet(df)"
   ]
  },
  {
   "cell_type": "code",
   "execution_count": null,
   "metadata": {
    "collapsed": true
   },
   "outputs": [],
   "source": [
    "test_split = 0.20\n",
    "train_data, test_data, train_labels, test_labels = train_test_split(data, labels, \n",
    "                                                                    test_size = test_split, \n",
    "                                                                    random_state = 42)"
   ]
  },
  {
   "cell_type": "code",
   "execution_count": null,
   "metadata": {
    "collapsed": true
   },
   "outputs": [],
   "source": [
    "vocab = vocabBuilder(train_data, unknown = True, min_no_of_words = 2)"
   ]
  },
  {
   "cell_type": "code",
   "execution_count": null,
   "metadata": {
    "collapsed": true
   },
   "outputs": [],
   "source": [
    "train_data_fit = fit_unknown_token(train_data, vocab)\n",
    "test_data_fit = fit_unknown_token(test_data, vocab)"
   ]
  },
  {
   "cell_type": "code",
   "execution_count": null,
   "metadata": {
    "collapsed": true
   },
   "outputs": [],
   "source": [
    "#wordModelGoogleWord2Vec = models.KeyedVectors.load_word2vec_format('../../GoogleNews-vectors-negative300.bin', binary=True)\n",
    "#wordModelGlove = models.KeyedVectors.load_word2vec_format('',binary = True)\n",
    "wordModelLocal = word2vec(train_data, 5, 2, 128, 20)"
   ]
  },
  {
   "cell_type": "code",
   "execution_count": null,
   "metadata": {
    "collapsed": true
   },
   "outputs": [],
   "source": [
    "wordEmbeddingsMatrixLocal = word_embedding_matrix_builder(wordModelLocal, 128, vocab)"
   ]
  },
  {
   "cell_type": "code",
   "execution_count": null,
   "metadata": {
    "collapsed": true
   },
   "outputs": [],
   "source": [
    "train_data_sequence = word_to_index(train_data_fit, vocab)\n",
    "test_data_sequence = word_to_index(test_data_fit, vocab)"
   ]
  },
  {
   "cell_type": "code",
   "execution_count": null,
   "metadata": {
    "collapsed": true
   },
   "outputs": [],
   "source": [
    "train_size = 20\n",
    "train_data_padded = sequence.pad_sequences(train_data_sequence, maxlen = train_size)\n",
    "test_data_padded = sequence.pad_sequences(test_data_sequence, maxlen = train_size)"
   ]
  },
  {
   "cell_type": "code",
   "execution_count": null,
   "metadata": {
    "collapsed": true
   },
   "outputs": [],
   "source": [
    "model = makeModel(train_data_padded, train_labels, len(vocab), pretrained = False, \n",
    "                  wordEmbeddings = wordEmbeddingsMatrixLocal, trainable = False, size = 300)"
   ]
  },
  {
   "cell_type": "code",
   "execution_count": null,
   "metadata": {
    "collapsed": true
   },
   "outputs": [],
   "source": [
    "epochs = 3\n",
    "batch_size = 384\n",
    "model.fit(train_data_padded, train_labels, epochs = epochs, batch_size = batch_size)"
   ]
  },
  {
   "cell_type": "code",
   "execution_count": null,
   "metadata": {
    "collapsed": true
   },
   "outputs": [],
   "source": [
    "model.evaluateModel(test_data_padded, test_labels)"
   ]
  }
 ],
 "metadata": {
  "kernelspec": {
   "display_name": "Python 2",
   "language": "python",
   "name": "python2"
  },
  "language_info": {
   "codemirror_mode": {
    "name": "ipython",
    "version": 2
   },
   "file_extension": ".py",
   "mimetype": "text/x-python",
   "name": "python",
   "nbconvert_exporter": "python",
   "pygments_lexer": "ipython2",
   "version": "2.7.13"
  }
 },
 "nbformat": 4,
 "nbformat_minor": 2
}
