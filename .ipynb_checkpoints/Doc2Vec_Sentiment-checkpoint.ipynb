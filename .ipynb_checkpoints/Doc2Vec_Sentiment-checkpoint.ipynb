{
 "cells": [
  {
   "cell_type": "code",
   "execution_count": 1,
   "metadata": {
    "collapsed": false
   },
   "outputs": [
    {
     "name": "stderr",
     "output_type": "stream",
     "text": [
      "Using Theano backend.\n",
      "C:\\Users\\shyam\\Anaconda2\\lib\\site-packages\\gensim\\utils.py:865: UserWarning: detected Windows; aliasing chunkize to chunkize_serial\n",
      "  warnings.warn(\"detected Windows; aliasing chunkize to chunkize_serial\")\n"
     ]
    }
   ],
   "source": [
    "import pandas as pd\n",
    "import re\n",
    "\n",
    "from nltk.corpus import stopwords\n",
    "from nltk import FreqDist\n",
    "\n",
    "from sklearn.model_selection import train_test_split\n",
    "\n",
    "import numpy as np\n",
    "\n",
    "import keras\n",
    "from keras.layers import Dense\n",
    "from keras.layers import Dropout\n",
    "from keras.models import Sequential\n",
    "from keras import optimizers\n",
    "\n",
    "from gensim.models import Doc2Vec"
   ]
  },
  {
   "cell_type": "code",
   "execution_count": 2,
   "metadata": {
    "collapsed": true
   },
   "outputs": [],
   "source": [
    "def polishData(df):\n",
    "    \n",
    "    data = []\n",
    "\n",
    "    for i in xrange(0, df.shape[0]):\n",
    "        no_links = re.sub(\"https?:\\/\\/.*[\\r\\n]*\", \" \", df.iloc[:,0][i], flags=re.MULTILINE)\n",
    "\n",
    "        letters_only = re.sub(\"[^a-zA-Z]\", \" \", no_links)\n",
    "\n",
    "        lower_case = letters_only.lower()\n",
    "        words = lower_case.split()\n",
    "    \n",
    "        words = [w for w in words if not w in stopwords.words(\"english\")]\n",
    "    \n",
    "        data.append(words)\n",
    "    \n",
    "    return data"
   ]
  },
  {
   "cell_type": "code",
   "execution_count": 3,
   "metadata": {
    "collapsed": true
   },
   "outputs": [],
   "source": [
    "def labelsOneHot(df):\n",
    "    sentiOneHot = pd.get_dummies(df.iloc[:,1])\n",
    "\n",
    "    labels = np.empty((sentiOneHot.shape), dtype = int)\n",
    "\n",
    "    for i in xrange(0,sentiOneHot.shape[1]):\n",
    "        numbers = np.array(sentiOneHot.iloc[:,i])\n",
    "        labels[:,i] = numbers\n",
    "\n",
    "    return labels"
   ]
  },
  {
   "cell_type": "code",
   "execution_count": 4,
   "metadata": {
    "collapsed": true
   },
   "outputs": [],
   "source": [
    "def polishDataSet(df):\n",
    "    data = polishData(df)\n",
    "    labels = labelsOneHot(df)\n",
    "    \n",
    "    return data, labels"
   ]
  },
  {
   "cell_type": "code",
   "execution_count": 5,
   "metadata": {
    "collapsed": true
   },
   "outputs": [],
   "source": [
    "def vocabBuilder (data, unknown = True, min_no_of_words = 1):\n",
    "    tokens = []\n",
    "    \n",
    "    for i in xrange(0, len(data)):\n",
    "        for j in xrange(0,len(data[i])):\n",
    "            tokens.append(data[i][j])\n",
    "            \n",
    "    freqdist = FreqDist(tokens)\n",
    "    \n",
    "    vocab = []\n",
    "    \n",
    "    for key in freqdist:\n",
    "        if freqdist[key] >= min_no_of_words:\n",
    "            vocab.append(key)\n",
    "    \n",
    "    if unknown:\n",
    "        vocab.append('UNKNOWN')\n",
    "    \n",
    "    return vocab"
   ]
  },
  {
   "cell_type": "code",
   "execution_count": 6,
   "metadata": {
    "collapsed": true
   },
   "outputs": [],
   "source": [
    "def fit_unknown_token(data, vocab):\n",
    "    \n",
    "    data_unknown = data\n",
    "    \n",
    "    for i in xrange(0, len(data)):\n",
    "        for j in xrange(0, len(data[i])):\n",
    "            if data[i][j] not in vocab:\n",
    "                data_unknown[i][j] = 'UNKNOWN'\n",
    "                \n",
    "    return data_unknown"
   ]
  },
  {
   "cell_type": "code",
   "execution_count": 7,
   "metadata": {
    "collapsed": true
   },
   "outputs": [],
   "source": [
    "def doc2vec(train_data, min_count, window, size, epochs):\n",
    "    model = Doc2Vec(train_data, min_count = min_count, window = window, size = size, epochs = epochs)\n",
    "    return model"
   ]
  },
  {
   "cell_type": "code",
   "execution_count": 9,
   "metadata": {
    "collapsed": true
   },
   "outputs": [],
   "source": [
    "def makeModel(train_data_reduced, train_labels, hidden_layer = 30, \n",
    "              activation = 'relu', optimizer = 'adam', loss = 'categorical_crossentropy'):\n",
    "    \n",
    "    adamOptimizer = keras.optimizers.Adam(lr=0.0008, decay = 0.00001)\n",
    "    model = Sequential()\n",
    "    model.add(Dense(hidden_layer,input_dim = train_data_reduced.shape[1], activation = activation))\n",
    "    model.add(Dropout(0.4))\n",
    "    model.add(Dense(100, activation = 'relu'))\n",
    "    model.add(Dropout(0.5))\n",
    "    model.add(Dense(train_labels.shape[1],activation = 'softmax'))\n",
    "    model.compile(optimizer = adamOptimizer, loss = loss, metrics = ['accuracy'])\n",
    "    \n",
    "    return model"
   ]
  },
  {
   "cell_type": "code",
   "execution_count": 10,
   "metadata": {
    "collapsed": true
   },
   "outputs": [],
   "source": [
    "def evaluateModel(test_data, test_labels):   \n",
    "    scores = model.evaluate(test_data, test_labels)\n",
    "    print(\"\\n%s: %.2f%%\" % (model.metrics_names[1], scores[1]*100))    "
   ]
  },
  {
   "cell_type": "code",
   "execution_count": null,
   "metadata": {
    "collapsed": true
   },
   "outputs": [],
   "source": [
    "class LabeledLineSentence(object):\n",
    "    def __init__(self, filename, training_labels):\n",
    "        self.filename = filename\n",
    "        self.training_labels = training_labels\n",
    "        self.trained_labels = np.where(training_labels == 1)\n",
    "        \n",
    "    def __iter__(self):\n",
    "        with gensim.utils.smart_open(self.filename) as fin:\n",
    "            for uid, line in enumerate(fin):\n",
    "                print uid, line\n",
    "                yield gensim.models.doc2vec.LabeledSentence(words = line.split(), tags = ['SENT_%s' % uid])\n",
    "            \n",
    "    def to_array(self):\n",
    "        self.sentences = []\n",
    "        for uid, line in enumerate(open(self.filename)):\n",
    "            print uid, line\n",
    "            self.sentences.append(gensim.models.doc2vec.LabeledSentence(words = line.split(), tags = ['SENT_%s' % self.trained_labels[uid-1]]))\n",
    "        return self.sentences"
   ]
  },
  {
   "cell_type": "code",
   "execution_count": 11,
   "metadata": {
    "collapsed": false
   },
   "outputs": [],
   "source": [
    "path = \"./train_data.csv\"\n",
    "df = pd.read_csv(path)"
   ]
  },
  {
   "cell_type": "code",
   "execution_count": 12,
   "metadata": {
    "collapsed": false
   },
   "outputs": [],
   "source": [
    "data, labels = polishDataSet(df)"
   ]
  },
  {
   "cell_type": "code",
   "execution_count": 13,
   "metadata": {
    "collapsed": true
   },
   "outputs": [],
   "source": [
    "test_split = 0.20\n",
    "train_data, test_data, train_labels, test_labels = train_test_split(data, labels, \n",
    "                                                                    test_size = test_split, \n",
    "                                                                    random_state = 10)"
   ]
  },
  {
   "cell_type": "code",
   "execution_count": 14,
   "metadata": {
    "collapsed": true
   },
   "outputs": [],
   "source": [
    "vocab = vocabBuilder(train_data, unknown = True, min_no_of_words = 2)"
   ]
  },
  {
   "cell_type": "code",
   "execution_count": 15,
   "metadata": {
    "collapsed": true
   },
   "outputs": [],
   "source": [
    "train_data_fit = fit_unknown_token(train_data, vocab)\n",
    "test_data_fit = fit_unknown_token(test_data, vocab)"
   ]
  },
  {
   "cell_type": "code",
   "execution_count": null,
   "metadata": {
    "collapsed": true
   },
   "outputs": [],
   "source": [
    "np.savetxt('./train.txt', train_data_fit, fmt = \"%s\")\n",
    "\n",
    "with open(\"./train.txt\", \"a\") as myfile:\n",
    "    np.savetxt(myfile, test_data_fit, fmt = \"%s\")"
   ]
  },
  {
   "cell_type": "code",
   "execution_count": null,
   "metadata": {
    "collapsed": true
   },
   "outputs": [],
   "source": [
    "path = './mymodel'\n",
    "size = 100\n",
    "sentences = LabeledLineSentence('./train.txt', train_labels)\n",
    "wordModel = doc2Vec(sentences, min_count=1, window = 2, size = size, epochs = 10)"
   ]
  },
  {
   "cell_type": "code",
   "execution_count": null,
   "metadata": {
    "collapsed": true
   },
   "outputs": [],
   "source": [
    "train_data_reduced = np.empty((len(train_data),size))\n",
    "\n",
    "for i in xrange(0, len(train_data)):\n",
    "    train_data_reduced[i] = wordModel.docvecs[i]"
   ]
  },
  {
   "cell_type": "code",
   "execution_count": null,
   "metadata": {
    "collapsed": true
   },
   "outputs": [],
   "source": [
    "test_data_reduced = np.empty((len(test_data),size))\n",
    "\n",
    "for i in xrange(0, len(test_data)):\n",
    "    test_data_reduced[i] = wordModel.docvecs[24000+i]"
   ]
  },
  {
   "cell_type": "code",
   "execution_count": 18,
   "metadata": {
    "collapsed": true
   },
   "outputs": [],
   "source": [
    "model = makeModel(train_data_reduced, train_labels)"
   ]
  },
  {
   "cell_type": "code",
   "execution_count": null,
   "metadata": {
    "collapsed": false
   },
   "outputs": [],
   "source": [
    "epochs = 3\n",
    "batch_size = 128\n",
    "model.fit(train_data_reduced, train_labels, epochs = epochs, batch_size = batch_size)"
   ]
  },
  {
   "cell_type": "code",
   "execution_count": null,
   "metadata": {
    "collapsed": true
   },
   "outputs": [],
   "source": [
    "model.evaluateModel(test_data_reduced, test_labels)"
   ]
  }
 ],
 "metadata": {
  "kernelspec": {
   "display_name": "Python 2",
   "language": "python",
   "name": "python2"
  },
  "language_info": {
   "codemirror_mode": {
    "name": "ipython",
    "version": 2
   },
   "file_extension": ".py",
   "mimetype": "text/x-python",
   "name": "python",
   "nbconvert_exporter": "python",
   "pygments_lexer": "ipython2",
   "version": "2.7.13"
  }
 },
 "nbformat": 4,
 "nbformat_minor": 2
}
